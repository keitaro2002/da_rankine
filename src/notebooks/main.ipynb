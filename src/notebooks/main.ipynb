{
 "cells": [
  {
   "cell_type": "code",
   "execution_count": 1,
   "metadata": {},
   "outputs": [],
   "source": [
    "from src.data.dataset import RankineData\n",
    "from src.models.LETKF import LETKF\n",
    "data = RankineData(1)\n",
    "model = LETKF()"
   ]
  },
  {
   "cell_type": "code",
   "execution_count": 2,
   "metadata": {},
   "outputs": [
    {
     "data": {
      "text/plain": [
       "{'u_x': array([  3.01082443,  12.89545692,   3.84967476,   0.59012919,\n",
       "          7.71428571,   5.03449364,   2.76779449,  -0.43522031,\n",
       "          3.14065282,   0.70148468,  -2.67374005,   5.94856269,\n",
       "         -5.19111925,  -3.59991429,  -0.44243181,  15.9542069 ,\n",
       "          2.38200284,   0.11098766,   3.11178906,  -3.03151817,\n",
       "          0.77745784,   2.81428123,  10.11765629,   2.94368232,\n",
       "         -0.0853936 ,   7.23454917,   1.23485871,  13.53568079,\n",
       "         -1.01497152,   2.03688137,  -1.06558917,   3.92543123,\n",
       "         21.83406445,   0.46740859,   8.96489312,  -0.50479886,\n",
       "         18.98729792,   5.8077334 ,   5.08764389,   1.14779562,\n",
       "          0.57931034,   1.28832683,  13.60936094,   4.14897973,\n",
       "         -1.69009047,  -0.31877643,   5.66292135,  -0.34993471,\n",
       "          5.31422423,  -6.97049526,   6.08439575,  25.34482759,\n",
       "          7.24137931,   1.87054632,   5.76509013,  -1.07507659,\n",
       "         -0.        ,  -0.33077463,  -0.77898144,  -4.48597407,\n",
       "         -2.26022483,   1.02203245,   3.47800738,   6.9340834 ,\n",
       "         -0.75537052,  -0.83272616,   6.09118638,  10.34786673,\n",
       "          2.51192909,   3.3744522 ,   0.98247116,  12.6       ,\n",
       "         -6.74197384,   2.16929699,   1.76938094,   3.42397755,\n",
       "          4.48417874,  -0.50493774,   0.91662943,   1.88947515,\n",
       "         -1.12397157,   1.43401045,  -2.62690089,   1.99405652,\n",
       "         23.75977372,   2.95554397,   2.45678887,  -0.71850545,\n",
       "          3.68108382,  -8.00241948,  -0.20556059,   0.16080752,\n",
       "         23.50071736,   3.13947616,   0.03682222,   7.79659224,\n",
       "         -8.07692308,  11.14058355,  -0.14402743,  -4.032     ,\n",
       "          1.47128459,  13.10982659,   0.99446424,  -1.07612058,\n",
       "          4.56777421,   3.19584861,  -0.4561086 ,   0.85652054,\n",
       "          1.52304022,   1.15747545,   8.46069316,  -1.99507389,\n",
       "          4.16715733,  -1.03053484,   1.37442027,   4.5528847 ,\n",
       "         15.71953858,  -5.56799888,   7.17484622,  -0.99027608,\n",
       "          9.5998153 ,  -1.16113679,  -0.32763415,  21.95615514,\n",
       "         -4.20542788,  -6.43526339,   3.29144526,   0.0949926 ,\n",
       "         -0.70437085,   6.36730773,  -0.672     ,  -1.9868594 ,\n",
       "          6.3302445 ,  -0.46873444,   0.4097561 ,  -0.6507891 ,\n",
       "         -2.07427732,   3.74257426,  11.72768372,  -0.98564733,\n",
       "          4.94117647,   0.68089149,   2.00647649,  10.09709561,\n",
       "          1.22798468,   3.08679149,   5.27019962,  -1.90808708,\n",
       "         -5.27301714,  -4.1064267 ,   4.94901968,   0.81128056,\n",
       "         -9.65517241,   1.04919293,   1.14792432,  -3.47080141,\n",
       "          3.89690722,   2.51650149,   1.39237653,   3.42740564,\n",
       "         -4.33906004,  -0.88707109,  -0.79549367,  -2.69940672,\n",
       "          6.45804737,  -3.03969972,   2.69852587,  -2.1420765 ,\n",
       "         -0.07408318,  -9.05509715,  -1.78158211,   0.74231868,\n",
       "          1.30633475,  -9.26470588,  -0.47151767,   6.67880069,\n",
       "         -0.67482279,   2.91972414,   5.46240245,   9.82484202,\n",
       "         -1.06220236,  13.06097561,   1.11259942,  -0.25459474,\n",
       "          5.2931057 ,  -0.14531874,   1.50645624,  -2.8777161 ,\n",
       "          0.30193233,  -0.81152383,  -2.44887929,   6.41402715,\n",
       "          0.12264205, -10.5       ,   5.52048682,   0.62600694,\n",
       "          1.29037984,   0.65093663,   0.28975134,   3.94650492]),\n",
       " 'u_y': array([ -5.68711281,  -4.02983029,   0.71773597,   0.43534121,\n",
       "         -7.71428571,   1.13988535,  -0.96872807,  -4.20712968,\n",
       "        -11.21661721,  -3.44896633,  -6.68435013,  -4.04502263,\n",
       "        -20.764477  ,  -8.09980715,  -2.12367269,  -0.93848276,\n",
       "          0.72181904,   0.10203704,  -1.46437132, -18.18910899,\n",
       "        -16.32661456,  -4.34934371,  -4.55294533,  -0.31220873,\n",
       "         -0.09138613,  -4.05134753, -10.49629903,  -2.2559468 ,\n",
       "         -1.13799837,   1.16932079,  -1.77598196,  -3.24863274,\n",
       "          6.02319019,   0.33386328,   4.95428304,  -0.68089149,\n",
       "          3.27367206,  -5.42055117,  -4.81987316,  -6.31287591,\n",
       "         -4.05517241,  -4.23307387,  -1.36093609,  -0.07153413,\n",
       "        -14.36576896,  -5.5254582 , -11.3258427 ,  -0.44537144,\n",
       "          1.952164  ,  -9.68124341,   2.90391615,  10.86206897,\n",
       "         -7.24137931,   1.74584323,  -0.4706196 ,  -7.21837138,\n",
       "         -0.        ,  -3.14235894,  -1.74599289, -10.93456181,\n",
       "         -3.16431476,  -5.00795899,   0.68419817,  -4.62272227,\n",
       "         -1.0071607 ,  -1.5392817 ,  -1.08287758,   2.27148294,\n",
       "         -4.30616415,   2.76091544, -15.71953858,  -4.2       ,\n",
       "        -15.73127229,  -8.67718795,  -6.04538488,   0.27174425,\n",
       "         -0.58128243,  -0.79347359,  -2.40615225, -15.11580117,\n",
       "         -5.732255  ,   0.67482845,  -6.95356117,   0.79762261,\n",
       "          7.559928  ,   2.44887929,  -0.84452117,  -2.69439542,\n",
       "         -2.15478077, -13.60411311,  -0.22343542,  -3.37695788,\n",
       "         10.77116212,  -4.60456503,   0.03565326,  -1.39938835,\n",
       "        -12.11538462,   7.65915119,  -0.16003048,  -5.376     ,\n",
       "         -3.50305855,  -2.0168964 ,  -4.30934503,  -1.84958224,\n",
       "          0.0815674 ,  -7.37503526,  -0.6081448 ,   0.54870847,\n",
       "          0.64128009,  -4.2165177 ,   3.42456628,  -4.65517241,\n",
       "         -0.68189847,  -2.17148412,  -4.20916207,  -7.7048818 ,\n",
       "         -0.98247116, -17.21017836,  -3.72029063,  -4.86135531,\n",
       "          4.36355241,  -7.63032746,  -0.37859947,  10.62394604,\n",
       "         -9.34539529, -12.19313064,  -0.31347098,   0.08990371,\n",
       "         -9.62640165,  -0.69209867,  -2.016     ,  -3.97371879,\n",
       "         -4.220163  ,  -0.66048944,   0.32780488,  -4.55552367,\n",
       "        -11.5566879 , -11.22772277,  -5.02615016, -15.27753363,\n",
       "         -4.94117647,   0.50479886,  -5.73278997,  -2.88488446,\n",
       "          0.70170553,   0.1403087 , -11.85794914, -12.08455148,\n",
       "        -20.03746513, -19.50552684,  -3.6659405 ,   0.59397327,\n",
       "        -24.13793103,   1.00883935,  -4.59169729, -15.18475616,\n",
       "         -3.89690722,  -0.99009895,  -3.14798173,   0.85685141,\n",
       "         -7.69197007,  -2.12897062,  -3.08253796,  -3.01087673,\n",
       "         -2.48386437, -11.05345351,  -1.05196771,  -4.89617486,\n",
       "         -0.07698841, -25.35427203,  -2.24134523,   0.54697166,\n",
       "          1.03912991, -15.44117647, -14.61704782,   1.53055849,\n",
       "        -12.14681019,  -7.29931034,  -0.4552002 ,  -3.40090685,\n",
       "         -2.41038228,   8.45121951,  -2.68878194,  -0.31824343,\n",
       "          0.39947968,  -4.21424354, -13.55810617,  -5.03600317,\n",
       "          0.27623596,  -1.2063192 ,  -2.95554397, -10.69004525,\n",
       "          0.11403559, -21.        ,   3.98701826,   0.46685263,\n",
       "         -6.77449417,   0.46952806,   0.2528739 ,   0.26310033]),\n",
       " 'u': array([  6.43492935,  13.51045304,   3.91601082,   0.73333105,\n",
       "        -10.90964748,   5.16192453,   2.93242569,  -4.22958117,\n",
       "        -11.64801278,  -3.51958087,  -7.19926542,   7.1935809 ,\n",
       "        -21.40353298,  -8.86376098,   2.16926983,  15.98178549,\n",
       "          2.48896771,   0.15076412,   3.43912991, -18.4400051 ,\n",
       "        -16.34511498,  -5.18044106,  11.09487629,   2.96019254,\n",
       "         -0.12507394,   8.29168973, -10.56868816,  13.72238866,\n",
       "         -1.5248631 ,   2.34865851,   2.07113307,   5.09535327,\n",
       "         22.64961789,  -0.5744001 ,  10.24276472,  -0.84760551,\n",
       "         19.26744433,  -7.94431509,   7.00823071,  -6.41637258,\n",
       "          4.09634273,   4.42478253,  13.67723847,   4.14959636,\n",
       "        -14.4648444 ,  -5.53464603, -12.66267709,   0.56640094,\n",
       "          5.66144182, -11.92955482,   6.74185439,  27.5743509 ,\n",
       "         10.24085683,   2.55869344,   5.7842672 ,  -7.29799116,\n",
       "          0.        ,   3.15972018,  -1.91188474, -11.81899341,\n",
       "         -3.88863783,  -5.11118417,   3.54466676,  -8.33373109,\n",
       "          1.25895087,  -1.75009171,   6.18669342,  10.5942428 ,\n",
       "          4.98526203,   4.3599979 , -15.75021088,  13.28156617,\n",
       "        -17.11511435,   8.94424061,  -6.29899891,   3.43474412,\n",
       "          4.52169749,  -0.94051181,  -2.57483556, -15.23343563,\n",
       "         -5.84140903,  -1.58485943,  -7.43321069,   2.14766459,\n",
       "         24.93349872,   3.83826132,   2.59788906,   2.78855102,\n",
       "          4.26537903, -15.78323829,  -0.30360919,  -3.38078447,\n",
       "         25.8515309 ,   5.57300006,   0.05125457,   7.92118289,\n",
       "        -14.56088015,  13.51943782,  -0.21529899,  -6.72      ,\n",
       "         -3.79948649,  13.26406515,  -4.42260259,  -2.13985746,\n",
       "          4.56850243,  -8.03769827,   0.760181  ,   1.01720619,\n",
       "         -1.65254097,  -4.37250168,   9.12748503,  -5.0646767 ,\n",
       "          4.22258046,  -2.40361089,  -4.42787493,  -8.94952304,\n",
       "         15.75021088, -18.08847287,   8.08201588,  -4.96119161,\n",
       "         10.54500087,  -7.7181692 ,  -0.50068123,  24.39141197,\n",
       "        -10.248026  , -13.78713348,   3.30633875,   0.13079094,\n",
       "         -9.65213691,   6.40481134,   2.12505059,  -4.44275267,\n",
       "          7.60800705,  -0.80991251,   0.52474384,  -4.60177383,\n",
       "        -11.7413654 , -11.83505897,  12.75933975, -15.30929569,\n",
       "         -6.98787878,   0.84760551,  -6.07378208,  10.50113795,\n",
       "          1.41433272,  -3.08997867, -12.97636165, -12.23426257,\n",
       "        -20.71966984, -19.93309603,   6.15888915,   1.00547521,\n",
       "        -25.99734734,   1.4555283 ,   4.73301323, -15.57636934,\n",
       "          5.51105904,   2.7042699 ,  -3.44216521,   3.53288887,\n",
       "         -8.83141244,   2.30638483,  -3.18352799,  -4.04378231,\n",
       "         -6.91924548, -11.46379557,   2.89632145,  -5.34425112,\n",
       "         -0.1068435 , -26.92273936,  -2.86315617,   0.92207104,\n",
       "          1.66922181, -18.00735144, -14.62465096,   6.85193316,\n",
       "        -12.16554082,   7.86159784,  -5.48133631,  10.39681144,\n",
       "         -2.63404947,  15.55674115,  -2.90988415,  -0.40755045,\n",
       "          5.308159  ,  -4.21674829, -13.64154146,  -5.80022223,\n",
       "          0.40923029,  -1.4538834 ,  -3.83826132, -12.46662792,\n",
       "          0.16746697, -23.47871376,   6.80970552,   0.78092001,\n",
       "         -6.89629259,   0.80260519,   0.38457905,  -3.95526521])}"
      ]
     },
     "execution_count": 2,
     "metadata": {},
     "output_type": "execute_result"
    }
   ],
   "source": [
    "data.make_obs(noise_flag=False)"
   ]
  },
  {
   "cell_type": "code",
   "execution_count": 2,
   "metadata": {},
   "outputs": [],
   "source": [
    "model.calculate_R_inv()"
   ]
  },
  {
   "cell_type": "code",
   "execution_count": 10,
   "metadata": {},
   "outputs": [
    {
     "data": {
      "text/plain": [
       "array([[ 0.,  1.,  2., ..., 88., 89., 90.],\n",
       "       [ 0.,  1.,  2., ..., 88., 89., 90.],\n",
       "       [ 0.,  1.,  2., ..., 88., 89., 90.],\n",
       "       ...,\n",
       "       [ 0.,  1.,  2., ..., 88., 89., 90.],\n",
       "       [ 0.,  1.,  2., ..., 88., 89., 90.],\n",
       "       [ 0.,  1.,  2., ..., 88., 89., 90.]])"
      ]
     },
     "execution_count": 10,
     "metadata": {},
     "output_type": "execute_result"
    }
   ],
   "source": [
    "data.xx"
   ]
  },
  {
   "cell_type": "code",
   "execution_count": 11,
   "metadata": {},
   "outputs": [
    {
     "data": {
      "text/plain": [
       "array([[ 0.,  0.,  0., ...,  0.,  0.,  0.],\n",
       "       [ 1.,  1.,  1., ...,  1.,  1.,  1.],\n",
       "       [ 2.,  2.,  2., ...,  2.,  2.,  2.],\n",
       "       ...,\n",
       "       [88., 88., 88., ..., 88., 88., 88.],\n",
       "       [89., 89., 89., ..., 89., 89., 89.],\n",
       "       [90., 90., 90., ..., 90., 90., 90.]])"
      ]
     },
     "execution_count": 11,
     "metadata": {},
     "output_type": "execute_result"
    }
   ],
   "source": [
    "data.yy"
   ]
  },
  {
   "cell_type": "code",
   "execution_count": 12,
   "metadata": {},
   "outputs": [],
   "source": [
    "import numpy as np\n",
    "xx, yy = data.xx, data.yy\n",
    "num_points = 91\n",
    "center = np.zeros((num_points, num_points, 2))\n",
    "center[:,:,0] = xx\n",
    "center[:,:,1] = yy\n",
    "center = center.reshape(-1, 2)"
   ]
  },
  {
   "cell_type": "code",
   "execution_count": 26,
   "metadata": {},
   "outputs": [
    {
     "name": "stdout",
     "output_type": "stream",
     "text": [
      "41.0 49.0\n"
     ]
    }
   ],
   "source": [
    "sigma = 10\n",
    "for i, (center_x, center_y) in enumerate(center[4500:4501]):\n",
    "    print(center_x, center_y)\n",
    "    distances = np.sqrt((xx - center_x)**2 + (yy - center_y)**2)        \n",
    "    gaussian = model.localizescale(sigma, distances)\n",
    "    \n"
   ]
  },
  {
   "cell_type": "code",
   "execution_count": 27,
   "metadata": {},
   "outputs": [
    {
     "data": {
      "text/plain": [
       "(91, 91)"
      ]
     },
     "execution_count": 27,
     "metadata": {},
     "output_type": "execute_result"
    }
   ],
   "source": [
    "distances.shape"
   ]
  },
  {
   "cell_type": "code",
   "execution_count": 29,
   "metadata": {},
   "outputs": [
    {
     "name": "stdout",
     "output_type": "stream",
     "text": [
      "(8281,)\n"
     ]
    }
   ],
   "source": [
    "print(gaussian.flatten().shape)"
   ]
  },
  {
   "cell_type": "code",
   "execution_count": 28,
   "metadata": {},
   "outputs": [
    {
     "data": {
      "text/plain": [
       "<matplotlib.colorbar.Colorbar at 0x7f9688e09130>"
      ]
     },
     "execution_count": 28,
     "metadata": {},
     "output_type": "execute_result"
    },
    {
     "data": {
      "image/png": "[encoded data removed]",
      "text/plain": [
       "<Figure size 640x480 with 2 Axes>"
      ]
     },
     "metadata": {},
     "output_type": "display_data"
    }
   ],
   "source": [
    "import matplotlib.pyplot as plt\n",
    "plt.imshow(gaussian)\n",
    "plt.colorbar()"
   ]
  },
  {
   "cell_type": "code",
   "execution_count": 8,
   "metadata": {},
   "outputs": [
    {
     "name": "stdout",
     "output_type": "stream",
     "text": [
      "(8281, 8281)\n"
     ]
    }
   ],
   "source": [
    "model.make_localization_matrix(5)"
   ]
  },
  {
   "cell_type": "code",
   "execution_count": 9,
   "metadata": {},
   "outputs": [],
   "source": [
    "L_loc = model.L_loc"
   ]
  },
  {
   "cell_type": "code",
   "execution_count": 32,
   "metadata": {},
   "outputs": [
    {
     "name": "stdout",
     "output_type": "stream",
     "text": [
      "(8281, 8281)\n"
     ]
    }
   ],
   "source": [
    "print(L_loc.shape)"
   ]
  },
  {
   "cell_type": "code",
   "execution_count": 37,
   "metadata": {},
   "outputs": [
    {
     "data": {
      "text/plain": [
       "<matplotlib.image.AxesImage at 0x7f9688218250>"
      ]
     },
     "execution_count": 37,
     "metadata": {},
     "output_type": "execute_result"
    },
    {
     "data": {
      "image/png": "[encoded data removed]",
      "text/plain": [
       "<Figure size 640x480 with 1 Axes>"
      ]
     },
     "metadata": {},
     "output_type": "display_data"
    }
   ],
   "source": [
    "plt.imshow(L_loc[:2000,: 2000])"
   ]
  },
  {
   "cell_type": "code",
   "execution_count": 3,
   "metadata": {},
   "outputs": [],
   "source": [
    "from numpy import linalg as LA\n",
    "import  numpy as np\n",
    "R = np.eye(91*91)*(3**2)\n",
    "R_inv = LA.inv(R)\n",
    "\n",
    "\n"
   ]
  },
  {
   "cell_type": "code",
   "execution_count": 10,
   "metadata": {},
   "outputs": [],
   "source": [
    "for j in range(91*91):\n",
    "    R_inv[j][j] = R_inv[j][j] * L_loc[0][j]"
   ]
  },
  {
   "cell_type": "code",
   "execution_count": 41,
   "metadata": {},
   "outputs": [
    {
     "name": "stdout",
     "output_type": "stream",
     "text": [
      "[  3  16  37  66  73 109 178 188 237 471]\n"
     ]
    }
   ],
   "source": [
    "flatten_obs_points = model.flatten_obs_points()"
   ]
  },
  {
   "cell_type": "code",
   "execution_count": 42,
   "metadata": {},
   "outputs": [
    {
     "data": {
      "text/plain": [
       "(200,)"
      ]
     },
     "execution_count": 42,
     "metadata": {},
     "output_type": "execute_result"
    }
   ],
   "source": [
    "flatten_obs_points.shape"
   ]
  },
  {
   "cell_type": "code",
   "execution_count": 40,
   "metadata": {},
   "outputs": [
    {
     "data": {
      "text/plain": [
       "<matplotlib.image.AxesImage at 0x7f968811daf0>"
      ]
     },
     "execution_count": 40,
     "metadata": {},
     "output_type": "execute_result"
    },
    {
     "data": {
      "image/png": "[encoded data removed]",
      "text/plain": [
       "<Figure size 640x480 with 1 Axes>"
      ]
     },
     "metadata": {},
     "output_type": "display_data"
    }
   ],
   "source": [
    "plt.imshow(R_inv[:500,:500])"
   ]
  },
  {
   "cell_type": "code",
   "execution_count": 43,
   "metadata": {},
   "outputs": [],
   "source": [
    "n_obs = 200\n",
    "R_inv_sensitive = np.zeros((n_obs, n_obs))\n",
    "for j in range(n_obs):\n",
    "    R_inv_sensitive[j][j] = R_inv[flatten_obs_points[j]][flatten_obs_points[j]]"
   ]
  },
  {
   "cell_type": "code",
   "execution_count": 45,
   "metadata": {},
   "outputs": [
    {
     "data": {
      "text/plain": [
       "<matplotlib.image.AxesImage at 0x7f963f373040>"
      ]
     },
     "execution_count": 45,
     "metadata": {},
     "output_type": "execute_result"
    },
    {
     "data": {
      "image/png": "[encoded data removed]",
      "text/plain": [
       "<Figure size 640x480 with 1 Axes>"
      ]
     },
     "metadata": {},
     "output_type": "display_data"
    }
   ],
   "source": [
    "plt.imshow(R_inv_sensitive[:50,:50])"
   ]
  },
  {
   "cell_type": "code",
   "execution_count": 47,
   "metadata": {},
   "outputs": [
    {
     "name": "stdout",
     "output_type": "stream",
     "text": [
      "[  3  16  37  66  73 109 178 188 237 471]\n"
     ]
    },
    {
     "data": {
      "text/plain": [
       "<matplotlib.image.AxesImage at 0x7f963f266cd0>"
      ]
     },
     "execution_count": 47,
     "metadata": {},
     "output_type": "execute_result"
    },
    {
     "data": {
      "image/png": "[encoded data removed]",
      "text/plain": [
       "<Figure size 640x480 with 1 Axes>"
      ]
     },
     "metadata": {},
     "output_type": "display_data"
    }
   ],
   "source": [
    "model.make_observation_matrix()\n",
    "H = model.H\n",
    "plt.imshow(H[:100, :100])"
   ]
  },
  {
   "cell_type": "code",
   "execution_count": 53,
   "metadata": {},
   "outputs": [],
   "source": [
    "x_u = data.windvalues_prior['u_x']\n",
    "x_v = data.windvalues_prior['u_y']\n",
    "u = np.sqrt(x_u**2 + x_v**2)"
   ]
  },
  {
   "cell_type": "code",
   "execution_count": 54,
   "metadata": {},
   "outputs": [
    {
     "name": "stdout",
     "output_type": "stream",
     "text": [
      "(60, 91, 91)\n"
     ]
    }
   ],
   "source": [
    "print(x_u.shape)"
   ]
  },
  {
   "cell_type": "code",
   "execution_count": 1,
   "metadata": {},
   "outputs": [
    {
     "ename": "NameError",
     "evalue": "name 'LA' is not defined",
     "output_type": "error",
     "traceback": [
      "\u001b[0;31m---------------------------------------------------------------------------\u001b[0m",
      "\u001b[0;31mNameError\u001b[0m                                 Traceback (most recent call last)",
      "Cell \u001b[0;32mIn[1], line 1\u001b[0m\n\u001b[0;32m----> 1\u001b[0m R_inv \u001b[38;5;241m=\u001b[39m \u001b[43mLA\u001b[49m\u001b[38;5;241m.\u001b[39minv(R)\n",
      "\u001b[0;31mNameError\u001b[0m: name 'LA' is not defined"
     ]
    }
   ],
   "source": [
    "R_inv = LA.inv(R)"
   ]
  },
  {
   "cell_type": "code",
   "execution_count": 59,
   "metadata": {},
   "outputs": [
    {
     "ename": "KeyboardInterrupt",
     "evalue": "",
     "output_type": "error",
     "traceback": [
      "\u001b[0;31m---------------------------------------------------------------------------\u001b[0m",
      "\u001b[0;31mKeyboardInterrupt\u001b[0m                         Traceback (most recent call last)",
      "Cell \u001b[0;32mIn[59], line 1\u001b[0m\n\u001b[0;32m----> 1\u001b[0m R_inv \u001b[38;5;241m=\u001b[39m \u001b[43mLA\u001b[49m\u001b[38;5;241;43m.\u001b[39;49m\u001b[43minv\u001b[49m\u001b[43m(\u001b[49m\u001b[43mR\u001b[49m\u001b[43m)\u001b[49m\n\u001b[1;32m      2\u001b[0m R_inv \u001b[38;5;241m=\u001b[39m np\u001b[38;5;241m.\u001b[39mdiag(np\u001b[38;5;241m.\u001b[39mdiagonal(R_inv) \u001b[38;5;241m*\u001b[39m L_loc)\n",
      "File \u001b[0;32m/data10/kinuki/da_rankine/.venv/lib/python3.9/site-packages/numpy/linalg/linalg.py:561\u001b[0m, in \u001b[0;36minv\u001b[0;34m(a)\u001b[0m\n\u001b[1;32m    559\u001b[0m signature \u001b[38;5;241m=\u001b[39m \u001b[38;5;124m'\u001b[39m\u001b[38;5;124mD->D\u001b[39m\u001b[38;5;124m'\u001b[39m \u001b[38;5;28;01mif\u001b[39;00m isComplexType(t) \u001b[38;5;28;01melse\u001b[39;00m \u001b[38;5;124m'\u001b[39m\u001b[38;5;124md->d\u001b[39m\u001b[38;5;124m'\u001b[39m\n\u001b[1;32m    560\u001b[0m extobj \u001b[38;5;241m=\u001b[39m get_linalg_error_extobj(_raise_linalgerror_singular)\n\u001b[0;32m--> 561\u001b[0m ainv \u001b[38;5;241m=\u001b[39m \u001b[43m_umath_linalg\u001b[49m\u001b[38;5;241;43m.\u001b[39;49m\u001b[43minv\u001b[49m\u001b[43m(\u001b[49m\u001b[43ma\u001b[49m\u001b[43m,\u001b[49m\u001b[43m \u001b[49m\u001b[43msignature\u001b[49m\u001b[38;5;241;43m=\u001b[39;49m\u001b[43msignature\u001b[49m\u001b[43m,\u001b[49m\u001b[43m \u001b[49m\u001b[43mextobj\u001b[49m\u001b[38;5;241;43m=\u001b[39;49m\u001b[43mextobj\u001b[49m\u001b[43m)\u001b[49m\n\u001b[1;32m    562\u001b[0m \u001b[38;5;28;01mreturn\u001b[39;00m wrap(ainv\u001b[38;5;241m.\u001b[39mastype(result_t, copy\u001b[38;5;241m=\u001b[39m\u001b[38;5;28;01mFalse\u001b[39;00m))\n",
      "\u001b[0;31mKeyboardInterrupt\u001b[0m: "
     ]
    }
   ],
   "source": [
    "R_inv = LA.inv(R)\n",
    "R_inv = np.diag(np.diagonal(R_inv) * L_loc)"
   ]
  },
  {
   "cell_type": "code",
   "execution_count": 58,
   "metadata": {},
   "outputs": [
    {
     "data": {
      "text/plain": [
       "(8281,)"
      ]
     },
     "execution_count": 58,
     "metadata": {},
     "output_type": "execute_result"
    }
   ],
   "source": [
    "R_inv.shape"
   ]
  },
  {
   "cell_type": "code",
   "execution_count": 57,
   "metadata": {},
   "outputs": [
    {
     "ename": "IndexError",
     "evalue": "too many indices for array: array is 1-dimensional, but 2 were indexed",
     "output_type": "error",
     "traceback": [
      "\u001b[0;31m---------------------------------------------------------------------------\u001b[0m",
      "\u001b[0;31mIndexError\u001b[0m                                Traceback (most recent call last)",
      "Cell \u001b[0;32mIn[57], line 1\u001b[0m\n\u001b[0;32m----> 1\u001b[0m plt\u001b[38;5;241m.\u001b[39mimshow(\u001b[43mR_inv\u001b[49m\u001b[43m[\u001b[49m\u001b[43m:\u001b[49m\u001b[38;5;241;43m500\u001b[39;49m\u001b[43m,\u001b[49m\u001b[43m:\u001b[49m\u001b[38;5;241;43m500\u001b[39;49m\u001b[43m]\u001b[49m)  \n",
      "\u001b[0;31mIndexError\u001b[0m: too many indices for array: array is 1-dimensional, but 2 were indexed"
     ]
    }
   ],
   "source": [
    "plt.imshow(R_inv[:500,:500])  "
   ]
  },
  {
   "cell_type": "code",
   "execution_count": 55,
   "metadata": {},
   "outputs": [
    {
     "data": {
      "text/plain": [
       "<matplotlib.image.AxesImage at 0x7f963f266280>"
      ]
     },
     "execution_count": 55,
     "metadata": {},
     "output_type": "execute_result"
    },
    {
     "data": {
      "image/png": "[encoded data removed]",
      "text/plain": [
       "<Figure size 640x480 with 1 Axes>"
      ]
     },
     "metadata": {},
     "output_type": "display_data"
    }
   ],
   "source": [
    "plt.imshow(u[0], cmap='jet', origin='lower')"
   ]
  },
  {
   "cell_type": "code",
   "execution_count": 48,
   "metadata": {},
   "outputs": [
    {
     "data": {
      "text/plain": [
       "(200, 8281)"
      ]
     },
     "execution_count": 48,
     "metadata": {},
     "output_type": "execute_result"
    }
   ],
   "source": [
    "H.shape"
   ]
  },
  {
   "cell_type": "code",
   "execution_count": 8,
   "metadata": {},
   "outputs": [
    {
     "data": {
      "text/plain": [
       "(8281, 2)"
      ]
     },
     "execution_count": 8,
     "metadata": {},
     "output_type": "execute_result"
    }
   ],
   "source": [
    "center.shape"
   ]
  },
  {
   "cell_type": "code",
   "execution_count": 5,
   "metadata": {},
   "outputs": [],
   "source": [
    "obs_points = data.obs_points"
   ]
  },
  {
   "cell_type": "code",
   "execution_count": 10,
   "metadata": {},
   "outputs": [
    {
     "name": "stdout",
     "output_type": "stream",
     "text": [
      "\n",
      "Sorted obs_points:\n",
      " [[ 3  0]\n",
      " [16  0]\n",
      " [37  0]\n",
      " [66  0]\n",
      " [73  0]\n",
      " [18  1]\n",
      " [87  1]\n",
      " [ 6  2]\n",
      " [55  2]\n",
      " [16  5]\n",
      " [49  5]\n",
      " [15  6]\n",
      " [19  7]\n",
      " [30  7]\n",
      " [31  7]\n",
      " [36  7]\n",
      " [67  7]\n",
      " [69  7]\n",
      " [ 3  8]\n",
      " [72  8]\n",
      " [40  9]\n",
      " [44  9]\n",
      " [51 10]\n",
      " [ 6 11]\n",
      " [21 11]\n",
      " [83 11]\n",
      " [89 11]\n",
      " [ 3 12]\n",
      " [29 12]\n",
      " [ 7 13]\n",
      " [35 13]\n",
      " [27 14]\n",
      " [50 15]\n",
      " [ 1 17]\n",
      " [ 8 17]\n",
      " [20 17]\n",
      " [30 17]\n",
      " [16 18]\n",
      " [29 18]\n",
      " [81 18]\n",
      " [88 18]\n",
      " [39 19]\n",
      " [52 19]\n",
      " [60 19]\n",
      " [48 20]\n",
      " [ 2 21]\n",
      " [48 21]\n",
      " [65 21]\n",
      " [68 21]\n",
      " [56 22]\n",
      " [83 22]\n",
      " [ 1 23]\n",
      " [ 3 23]\n",
      " [45 23]\n",
      " [53 23]\n",
      " [64 23]\n",
      " [ 3 26]\n",
      " [10 26]\n",
      " [19 26]\n",
      " [36 26]\n",
      " [63 26]\n",
      " [70 26]\n",
      " [47 27]\n",
      " [53 27]\n",
      " [47 28]\n",
      " [21 29]\n",
      " [36 29]\n",
      " [37 29]\n",
      " [51 29]\n",
      " [57 30]\n",
      " [71 30]\n",
      " [32 31]\n",
      " [90 31]\n",
      " [43 33]\n",
      " [17 34]\n",
      " [63 34]\n",
      " [68 34]\n",
      " [60 35]\n",
      " [73 35]\n",
      " [20 36]\n",
      " [26 36]\n",
      " [80 36]\n",
      " [ 7 37]\n",
      " [31 38]\n",
      " [63 38]\n",
      " [46 40]\n",
      " [54 40]\n",
      " [10 42]\n",
      " [52 42]\n",
      " [77 42]\n",
      " [ 0 43]\n",
      " [15 43]\n",
      " [34 43]\n",
      " [42 43]\n",
      " [13 45]\n",
      " [19 45]\n",
      " [21 45]\n",
      " [10 47]\n",
      " [33 47]\n",
      " [59 47]\n",
      " [ 9 48]\n",
      " [11 48]\n",
      " [55 48]\n",
      " [86 48]\n",
      " [52 49]\n",
      " [41 50]\n",
      " [ 5 51]\n",
      " [22 51]\n",
      " [55 52]\n",
      " [80 52]\n",
      " [81 52]\n",
      " [83 52]\n",
      " [ 1 53]\n",
      " [ 3 53]\n",
      " [45 53]\n",
      " [23 54]\n",
      " [49 54]\n",
      " [89 54]\n",
      " [36 55]\n",
      " [83 55]\n",
      " [33 56]\n",
      " [28 58]\n",
      " [21 59]\n",
      " [25 59]\n",
      " [10 60]\n",
      " [16 61]\n",
      " [34 61]\n",
      " [37 61]\n",
      " [41 61]\n",
      " [42 61]\n",
      " [ 2 62]\n",
      " [42 62]\n",
      " [84 62]\n",
      " [86 62]\n",
      " [ 2 63]\n",
      " [34 63]\n",
      " [46 63]\n",
      " [82 63]\n",
      " [27 64]\n",
      " [76 64]\n",
      " [79 64]\n",
      " [81 64]\n",
      " [64 65]\n",
      " [18 66]\n",
      " [33 66]\n",
      " [26 67]\n",
      " [ 3 68]\n",
      " [23 68]\n",
      " [51 68]\n",
      " [84 68]\n",
      " [28 69]\n",
      " [31 69]\n",
      " [74 69]\n",
      " [15 70]\n",
      " [13 71]\n",
      " [55 72]\n",
      " [69 72]\n",
      " [ 0 73]\n",
      " [11 73]\n",
      " [54 73]\n",
      " [59 73]\n",
      " [16 74]\n",
      " [ 1 75]\n",
      " [13 76]\n",
      " [39 76]\n",
      " [86 76]\n",
      " [ 5 77]\n",
      " [19 77]\n",
      " [67 77]\n",
      " [70 77]\n",
      " [ 5 78]\n",
      " [30 78]\n",
      " [ 6 80]\n",
      " [18 80]\n",
      " [37 80]\n",
      " [ 7 81]\n",
      " [58 81]\n",
      " [61 81]\n",
      " [38 82]\n",
      " [40 83]\n",
      " [81 83]\n",
      " [12 84]\n",
      " [42 84]\n",
      " [52 84]\n",
      " [76 84]\n",
      " [ 1 85]\n",
      " [37 85]\n",
      " [68 85]\n",
      " [87 85]\n",
      " [ 0 86]\n",
      " [58 86]\n",
      " [65 86]\n",
      " [ 6 87]\n",
      " [45 87]\n",
      " [14 88]\n",
      " [68 88]\n",
      " [89 88]\n",
      " [64 89]\n",
      " [ 4 90]\n",
      " [66 90]]\n"
     ]
    }
   ],
   "source": [
    "import numpy as np\n",
    "# First, sort by the second dimension\n",
    "sorted_indices = np.lexsort((obs_points[:, 0], obs_points[:, 1]))\n",
    "\n",
    "# Use the sorted indices to sort the array\n",
    "sorted_obs_points = obs_points[sorted_indices]\n",
    "\n",
    "print(\"\\nSorted obs_points:\\n\", sorted_obs_points)"
   ]
  },
  {
   "cell_type": "code",
   "execution_count": 1,
   "metadata": {},
   "outputs": [
    {
     "name": "stdout",
     "output_type": "stream",
     "text": [
      "(91, 91)\n"
     ]
    }
   ],
   "source": [
    "# (60,91,91)のnumpy配列を作成\n",
    "import numpy as np\n",
    "a = np.zeros((60, 91, 91))\n",
    "a_mean = np.mean(a, axis=0)\n",
    "print(a_mean.shape)"
   ]
  },
  {
   "cell_type": "code",
   "execution_count": 2,
   "metadata": {},
   "outputs": [],
   "source": [
    "from src.data.dataset import RankineData\n",
    "ensemble_size = 60\n",
    "\n",
    "data = RankineData(1)\n",
    "x_u, x_v = data.windvalues_prior['u_x'], data.windvalues_prior['u_y']\n",
    "x_u, x_v = x_u.reshape(ensemble_size, -1), x_v.reshape(ensemble_size, -1)\n",
    "xb_mean_u = np.mean(x_u, axis=0)\n",
    "xb_mean_v = np.mean(x_v, axis=0)\n",
    "dXb_u = (x_u - xb_mean_u).T\n",
    "dXb_v = (x_v - xb_mean_v).T"
   ]
  },
  {
   "cell_type": "code",
   "execution_count": 3,
   "metadata": {},
   "outputs": [
    {
     "name": "stdout",
     "output_type": "stream",
     "text": [
      "(60, 91, 91)\n",
      "(91, 91)\n",
      "(91, 91, 60)\n"
     ]
    }
   ],
   "source": [
    "print(x_u.shape)\n",
    "print(xb_mean_u.shape)\n",
    "print(dXb_u.shape)"
   ]
  },
  {
   "cell_type": "code",
   "execution_count": null,
   "metadata": {},
   "outputs": [],
   "source": []
  }
 ],
 "metadata": {
  "kernelspec": {
   "display_name": "Python 3 (ipykernel)",
   "language": "python",
   "name": "python3"
  }
 },
 "nbformat": 4,
 "nbformat_minor": 2
}
