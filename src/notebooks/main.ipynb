{
 "cells": [
  {
   "cell_type": "code",
   "execution_count": 1,
   "metadata": {},
   "outputs": [],
   "source": [
    "from src.data.dataset import RankineData\n",
    "\n",
    "data = RankineData(1)"
   ]
  },
  {
   "cell_type": "code",
   "execution_count": 2,
   "metadata": {},
   "outputs": [
    {
     "data": {
      "text/plain": [
       "array([[ 0.,  1.,  2., ..., 88., 89., 90.],\n",
       "       [ 0.,  1.,  2., ..., 88., 89., 90.],\n",
       "       [ 0.,  1.,  2., ..., 88., 89., 90.],\n",
       "       ...,\n",
       "       [ 0.,  1.,  2., ..., 88., 89., 90.],\n",
       "       [ 0.,  1.,  2., ..., 88., 89., 90.],\n",
       "       [ 0.,  1.,  2., ..., 88., 89., 90.]])"
      ]
     },
     "execution_count": 2,
     "metadata": {},
     "output_type": "execute_result"
    }
   ],
   "source": [
    "data.xx"
   ]
  },
  {
   "cell_type": "code",
   "execution_count": 3,
   "metadata": {},
   "outputs": [
    {
     "data": {
      "text/plain": [
       "array([[ 0.,  0.,  0., ...,  0.,  0.,  0.],\n",
       "       [ 1.,  1.,  1., ...,  1.,  1.,  1.],\n",
       "       [ 2.,  2.,  2., ...,  2.,  2.,  2.],\n",
       "       ...,\n",
       "       [88., 88., 88., ..., 88., 88., 88.],\n",
       "       [89., 89., 89., ..., 89., 89., 89.],\n",
       "       [90., 90., 90., ..., 90., 90., 90.]])"
      ]
     },
     "execution_count": 3,
     "metadata": {},
     "output_type": "execute_result"
    }
   ],
   "source": [
    "data.yy"
   ]
  },
  {
   "cell_type": "code",
   "execution_count": 5,
   "metadata": {},
   "outputs": [],
   "source": [
    "obs_points = data.obs_points"
   ]
  },
  {
   "cell_type": "code",
   "execution_count": 10,
   "metadata": {},
   "outputs": [
    {
     "name": "stdout",
     "output_type": "stream",
     "text": [
      "\n",
      "Sorted obs_points:\n",
      " [[ 3  0]\n",
      " [16  0]\n",
      " [37  0]\n",
      " [66  0]\n",
      " [73  0]\n",
      " [18  1]\n",
      " [87  1]\n",
      " [ 6  2]\n",
      " [55  2]\n",
      " [16  5]\n",
      " [49  5]\n",
      " [15  6]\n",
      " [19  7]\n",
      " [30  7]\n",
      " [31  7]\n",
      " [36  7]\n",
      " [67  7]\n",
      " [69  7]\n",
      " [ 3  8]\n",
      " [72  8]\n",
      " [40  9]\n",
      " [44  9]\n",
      " [51 10]\n",
      " [ 6 11]\n",
      " [21 11]\n",
      " [83 11]\n",
      " [89 11]\n",
      " [ 3 12]\n",
      " [29 12]\n",
      " [ 7 13]\n",
      " [35 13]\n",
      " [27 14]\n",
      " [50 15]\n",
      " [ 1 17]\n",
      " [ 8 17]\n",
      " [20 17]\n",
      " [30 17]\n",
      " [16 18]\n",
      " [29 18]\n",
      " [81 18]\n",
      " [88 18]\n",
      " [39 19]\n",
      " [52 19]\n",
      " [60 19]\n",
      " [48 20]\n",
      " [ 2 21]\n",
      " [48 21]\n",
      " [65 21]\n",
      " [68 21]\n",
      " [56 22]\n",
      " [83 22]\n",
      " [ 1 23]\n",
      " [ 3 23]\n",
      " [45 23]\n",
      " [53 23]\n",
      " [64 23]\n",
      " [ 3 26]\n",
      " [10 26]\n",
      " [19 26]\n",
      " [36 26]\n",
      " [63 26]\n",
      " [70 26]\n",
      " [47 27]\n",
      " [53 27]\n",
      " [47 28]\n",
      " [21 29]\n",
      " [36 29]\n",
      " [37 29]\n",
      " [51 29]\n",
      " [57 30]\n",
      " [71 30]\n",
      " [32 31]\n",
      " [90 31]\n",
      " [43 33]\n",
      " [17 34]\n",
      " [63 34]\n",
      " [68 34]\n",
      " [60 35]\n",
      " [73 35]\n",
      " [20 36]\n",
      " [26 36]\n",
      " [80 36]\n",
      " [ 7 37]\n",
      " [31 38]\n",
      " [63 38]\n",
      " [46 40]\n",
      " [54 40]\n",
      " [10 42]\n",
      " [52 42]\n",
      " [77 42]\n",
      " [ 0 43]\n",
      " [15 43]\n",
      " [34 43]\n",
      " [42 43]\n",
      " [13 45]\n",
      " [19 45]\n",
      " [21 45]\n",
      " [10 47]\n",
      " [33 47]\n",
      " [59 47]\n",
      " [ 9 48]\n",
      " [11 48]\n",
      " [55 48]\n",
      " [86 48]\n",
      " [52 49]\n",
      " [41 50]\n",
      " [ 5 51]\n",
      " [22 51]\n",
      " [55 52]\n",
      " [80 52]\n",
      " [81 52]\n",
      " [83 52]\n",
      " [ 1 53]\n",
      " [ 3 53]\n",
      " [45 53]\n",
      " [23 54]\n",
      " [49 54]\n",
      " [89 54]\n",
      " [36 55]\n",
      " [83 55]\n",
      " [33 56]\n",
      " [28 58]\n",
      " [21 59]\n",
      " [25 59]\n",
      " [10 60]\n",
      " [16 61]\n",
      " [34 61]\n",
      " [37 61]\n",
      " [41 61]\n",
      " [42 61]\n",
      " [ 2 62]\n",
      " [42 62]\n",
      " [84 62]\n",
      " [86 62]\n",
      " [ 2 63]\n",
      " [34 63]\n",
      " [46 63]\n",
      " [82 63]\n",
      " [27 64]\n",
      " [76 64]\n",
      " [79 64]\n",
      " [81 64]\n",
      " [64 65]\n",
      " [18 66]\n",
      " [33 66]\n",
      " [26 67]\n",
      " [ 3 68]\n",
      " [23 68]\n",
      " [51 68]\n",
      " [84 68]\n",
      " [28 69]\n",
      " [31 69]\n",
      " [74 69]\n",
      " [15 70]\n",
      " [13 71]\n",
      " [55 72]\n",
      " [69 72]\n",
      " [ 0 73]\n",
      " [11 73]\n",
      " [54 73]\n",
      " [59 73]\n",
      " [16 74]\n",
      " [ 1 75]\n",
      " [13 76]\n",
      " [39 76]\n",
      " [86 76]\n",
      " [ 5 77]\n",
      " [19 77]\n",
      " [67 77]\n",
      " [70 77]\n",
      " [ 5 78]\n",
      " [30 78]\n",
      " [ 6 80]\n",
      " [18 80]\n",
      " [37 80]\n",
      " [ 7 81]\n",
      " [58 81]\n",
      " [61 81]\n",
      " [38 82]\n",
      " [40 83]\n",
      " [81 83]\n",
      " [12 84]\n",
      " [42 84]\n",
      " [52 84]\n",
      " [76 84]\n",
      " [ 1 85]\n",
      " [37 85]\n",
      " [68 85]\n",
      " [87 85]\n",
      " [ 0 86]\n",
      " [58 86]\n",
      " [65 86]\n",
      " [ 6 87]\n",
      " [45 87]\n",
      " [14 88]\n",
      " [68 88]\n",
      " [89 88]\n",
      " [64 89]\n",
      " [ 4 90]\n",
      " [66 90]]\n"
     ]
    }
   ],
   "source": [
    "import numpy as np\n",
    "# First, sort by the second dimension\n",
    "sorted_indices = np.lexsort((obs_points[:, 0], obs_points[:, 1]))\n",
    "\n",
    "# Use the sorted indices to sort the array\n",
    "sorted_obs_points = obs_points[sorted_indices]\n",
    "\n",
    "print(\"\\nSorted obs_points:\\n\", sorted_obs_points)"
   ]
  },
  {
   "cell_type": "code",
   "execution_count": 1,
   "metadata": {},
   "outputs": [
    {
     "name": "stdout",
     "output_type": "stream",
     "text": [
      "(91, 91)\n"
     ]
    }
   ],
   "source": [
    "# (60,91,91)のnumpy配列を作成\n",
    "import numpy as np\n",
    "a = np.zeros((60, 91, 91))\n",
    "a_mean = np.mean(a, axis=0)\n",
    "print(a_mean.shape)"
   ]
  },
  {
   "cell_type": "code",
   "execution_count": 2,
   "metadata": {},
   "outputs": [],
   "source": [
    "from src.data.dataset import RankineData\n",
    "ensemble_size = 60\n",
    "\n",
    "data = RankineData(1)\n",
    "x_u, x_v = data.windvalues_prior['u_x'], data.windvalues_prior['u_y']\n",
    "x_u, x_v = x_u.reshape(ensemble_size, -1), x_v.reshape(ensemble_size, -1)\n",
    "xb_mean_u = np.mean(x_u, axis=0)\n",
    "xb_mean_v = np.mean(x_v, axis=0)\n",
    "dXb_u = (x_u - xb_mean_u).T\n",
    "dXb_v = (x_v - xb_mean_v).T"
   ]
  },
  {
   "cell_type": "code",
   "execution_count": 3,
   "metadata": {},
   "outputs": [
    {
     "name": "stdout",
     "output_type": "stream",
     "text": [
      "(60, 91, 91)\n",
      "(91, 91)\n",
      "(91, 91, 60)\n"
     ]
    }
   ],
   "source": [
    "print(x_u.shape)\n",
    "print(xb_mean_u.shape)\n",
    "print(dXb_u.shape)"
   ]
  },
  {
   "cell_type": "code",
   "execution_count": null,
   "metadata": {},
   "outputs": [],
   "source": []
  }
 ],
 "metadata": {
  "kernelspec": {
   "display_name": "Python 3 (ipykernel)",
   "language": "python",
   "name": "python3"
  },
  "language_info": {
   "codemirror_mode": {
    "name": "ipython",
    "version": 3
   },
   "file_extension": ".py",
   "mimetype": "text/x-python",
   "name": "python",
   "nbconvert_exporter": "python",
   "pygments_lexer": "ipython3",
   "version": "3.9.6"
  }
 },
 "nbformat": 4,
 "nbformat_minor": 2
}
